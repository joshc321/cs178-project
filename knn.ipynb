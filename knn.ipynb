{
 "cells": [
  {
   "cell_type": "markdown",
   "source": [
    "### kNN Classifier for CIFAR-10 Dataset"
   ],
   "metadata": {
    "collapsed": false
   }
  },
  {
   "cell_type": "code",
   "execution_count": 10,
   "outputs": [],
   "source": [
    "import matplotlib.pyplot as plt\n",
    "from data_loader import load_training, load_testing, load_validation, load_meta\n",
    "from sklearn.neighbors import KNeighborsClassifier\n",
    "from sklearn.metrics import accuracy_score"
   ],
   "metadata": {
    "collapsed": false,
    "ExecuteTime": {
     "end_time": "2023-06-07T04:06:13.534532Z",
     "start_time": "2023-06-07T04:06:13.531073Z"
    }
   }
  },
  {
   "cell_type": "code",
   "execution_count": 11,
   "outputs": [],
   "source": [
    "tr_X, tr_y = load_training()\n",
    "te_X, te_y = load_testing()\n",
    "val_X, val_y = load_validation()"
   ],
   "metadata": {
    "collapsed": false,
    "ExecuteTime": {
     "end_time": "2023-06-07T04:06:15.032822Z",
     "start_time": "2023-06-07T04:06:14.837097Z"
    }
   }
  },
  {
   "cell_type": "code",
   "execution_count": 12,
   "outputs": [],
   "source": [
    "k_list = [1, 5, 10, 25, 50]\n",
    "tr_errors = []\n",
    "te_errors = []\n",
    "val_errors = []"
   ],
   "metadata": {
    "collapsed": false,
    "ExecuteTime": {
     "end_time": "2023-06-07T04:06:15.341816Z",
     "start_time": "2023-06-07T04:06:15.336578Z"
    }
   }
  },
  {
   "cell_type": "code",
   "execution_count": null,
   "outputs": [],
   "source": [
    "for K in k_list:\n",
    "    clf = KNeighborsClassifier(n_neighbors=K)\n",
    "    clf.fit(tr_X, tr_y)\n",
    "    # Predict on data\n",
    "    pred_tr_y = clf.predict(tr_X)\n",
    "    pred_te_y = clf.predict(te_X)\n",
    "\n",
    "    # Calculate accuracy\n",
    "    tr_acc = accuracy_score(tr_y, pred_tr_y)\n",
    "    tr_errors.append(1 - tr_acc)\n",
    "\n",
    "    te_acc = accuracy_score(te_y, pred_te_y)\n",
    "    te_errors.append(1 - te_acc)\n",
    "\n",
    "plt.title(\"Varying error rates on k different neighbors\")\n",
    "plt.plot(k_list, tr_errors, c=\"red\", label=\"training\")\n",
    "plt.plot(k_list, te_errors, c=\"green\", label=\"testing\")\n",
    "plt.legend()\n",
    "plt.xlabel(\"k neighbors\")\n",
    "plt.ylabel(\"error rate\")\n",
    "plt.show()\n",
    "\n",
    "print(tr_errors)\n",
    "print(te_errors)"
   ],
   "metadata": {
    "collapsed": false,
    "is_executing": true,
    "ExecuteTime": {
     "start_time": "2023-06-07T04:06:16.551913Z"
    }
   }
  },
  {
   "cell_type": "code",
   "execution_count": null,
   "outputs": [],
   "source": [
    "for K in k_list:\n",
    "    clf = KNeighborsClassifier(n_neighbors=K)\n",
    "    clf.fit(tr_X, tr_y)\n",
    "    # Predict on data\n",
    "    pred_val_y = clf.predict(val_X)\n",
    "\n",
    "    # Calculate accuracy\n",
    "    val_acc = accuracy_score(val_y, pred_val_y)\n",
    "    val_errors.append(1 - val_acc)\n",
    "\n",
    "plt.title(\"Varying error rates on k different neighbors\")\n",
    "plt.plot(k_list, val_errors, c=\"red\", label=\"Validation\")\n",
    "plt.legend()\n",
    "plt.xlabel(\"k neighbors\")\n",
    "plt.ylabel(\"error rate\")\n",
    "plt.show()\n",
    "\n",
    "print(val_errors)\n"
   ],
   "metadata": {
    "collapsed": false
   }
  },
  {
   "cell_type": "markdown",
   "source": [],
   "metadata": {
    "collapsed": false
   }
  }
 ],
 "metadata": {
  "kernelspec": {
   "display_name": "Python 3",
   "language": "python",
   "name": "python3"
  },
  "language_info": {
   "codemirror_mode": {
    "name": "ipython",
    "version": 2
   },
   "file_extension": ".py",
   "mimetype": "text/x-python",
   "name": "python",
   "nbconvert_exporter": "python",
   "pygments_lexer": "ipython2",
   "version": "2.7.6"
  }
 },
 "nbformat": 4,
 "nbformat_minor": 0
}
