{
 "cells": [
  {
   "cell_type": "markdown",
   "source": [
    "### Logistic Classifier for CIFAR-10"
   ],
   "metadata": {
    "collapsed": false
   }
  },
  {
   "cell_type": "code",
   "execution_count": 1,
   "metadata": {
    "collapsed": true,
    "ExecuteTime": {
     "end_time": "2023-06-08T10:40:43.321935Z",
     "start_time": "2023-06-08T10:40:41.529639Z"
    }
   },
   "outputs": [],
   "source": [
    "import matplotlib.pyplot as plt\n",
    "from data_loader import load_training, load_testing, load_validation\n",
    "from sklearn.linear_model import LogisticRegression\n",
    "from sklearn.metrics import accuracy_score"
   ]
  },
  {
   "cell_type": "code",
   "execution_count": 2,
   "outputs": [],
   "source": [
    "tr_X, tr_y = load_training()\n",
    "te_X, te_y = load_testing()\n",
    "val_X, val_y = load_validation()"
   ],
   "metadata": {
    "collapsed": false,
    "ExecuteTime": {
     "end_time": "2023-06-08T10:40:47.386251Z",
     "start_time": "2023-06-08T10:40:47.191530Z"
    }
   }
  },
  {
   "cell_type": "markdown",
   "source": [
    "Hyperparameters for LogReg model:\n",
    "- solver\n",
    "- penalty\n",
    "\n",
    "Constant for all clfs:\n",
    "- C = 1/c (eliminates inversion)\n",
    "\n",
    "Three models:\n",
    "- liblinear, l1 (v1)\n",
    "- liblinear, l2 (v2)\n",
    "- sag, l2       (v3)"
   ],
   "metadata": {
    "collapsed": false
   }
  },
  {
   "cell_type": "code",
   "execution_count": null,
   "outputs": [
    {
     "name": "stderr",
     "output_type": "stream",
     "text": [
      "/Users/minha/miniconda3/envs/cs178/lib/python3.10/site-packages/sklearn/linear_model/_logistic.py:458: ConvergenceWarning: lbfgs failed to converge (status=1):\n",
      "STOP: TOTAL NO. of ITERATIONS REACHED LIMIT.\n",
      "\n",
      "Increase the number of iterations (max_iter) or scale the data as shown in:\n",
      "    https://scikit-learn.org/stable/modules/preprocessing.html\n",
      "Please also refer to the documentation for alternative solver options:\n",
      "    https://scikit-learn.org/stable/modules/linear_model.html#logistic-regression\n",
      "  n_iter_i = _check_optimize_result(\n"
     ]
    }
   ],
   "source": [
    "# v1\n",
    "\n",
    "v1_tr_errors = []\n",
    "v1_te_errors = []\n",
    "v1_val_errors = []\n",
    "\n",
    "c_list = [0, 0.1, 1, 10, 50]\n",
    "\n",
    "for c in c_list:\n",
    "    if c == 0:\n",
    "        # LogReg with no penalty\n",
    "        clf = LogisticRegression(penalty=None)\n",
    "    else:\n",
    "        clf = LogisticRegression(penalty=\"l1\", solver=\"liblinear\", C=1/c)\n",
    "\n",
    "    clf.fit(tr_X, tr_y)\n",
    "\n",
    "    acc_tr = accuracy_score(tr_y, clf.predict(tr_X))\n",
    "    acc_te = accuracy_score(te_y, clf.predict(te_X))\n",
    "    v1_tr_errors.append(acc_tr)\n",
    "    v1_te_errors.append(acc_te)\n",
    "\n",
    "plt.title(\"Varying error rates on different regularization strength on v1\")\n",
    "plt.plot(c_list, v1_tr_errors, c=\"red\", label=\"training\")\n",
    "plt.plot(c_list, v1_te_errors, c=\"green\", label=\"testing\")\n",
    "plt.legend()\n",
    "plt.xlabel(\"reg strength\")\n",
    "plt.ylabel(\"error rate\")\n",
    "plt.show()\n",
    "\n",
    "print(v1_tr_errors)\n",
    "print(v1_te_errors)\n"
   ],
   "metadata": {
    "collapsed": false,
    "is_executing": true,
    "ExecuteTime": {
     "start_time": "2023-06-08T10:40:59.000782Z"
    }
   }
  }
 ],
 "metadata": {
  "kernelspec": {
   "display_name": "Python 3",
   "language": "python",
   "name": "python3"
  },
  "language_info": {
   "codemirror_mode": {
    "name": "ipython",
    "version": 2
   },
   "file_extension": ".py",
   "mimetype": "text/x-python",
   "name": "python",
   "nbconvert_exporter": "python",
   "pygments_lexer": "ipython2",
   "version": "2.7.6"
  }
 },
 "nbformat": 4,
 "nbformat_minor": 0
}
