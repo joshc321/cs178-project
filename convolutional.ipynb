{
 "cells": [
  {
   "attachments": {},
   "cell_type": "markdown",
   "metadata": {
    "collapsed": false
   },
   "source": [
    "### Convolutional Neural Network for CIFAR-10"
   ]
  },
  {
   "cell_type": "code",
   "execution_count": 8,
   "metadata": {
    "ExecuteTime": {
     "end_time": "2023-06-09T04:24:31.073848Z",
     "start_time": "2023-06-09T04:24:29.308703Z"
    },
    "collapsed": false
   },
   "outputs": [],
   "source": [
    "import torch\n",
    "import torchvision\n",
    "import torchvision.transforms as transforms\n",
    "import torch.nn as nn\n",
    "import torch.nn.functional as F\n",
    "import torch.optim as optim\n",
    "\n",
    "import matplotlib.pyplot as plt\n",
    "\n",
    "\n",
    "from Cifar10 import Cifar10\n",
    "import helpers\n",
    "import random"
   ]
  },
  {
   "cell_type": "code",
   "execution_count": 9,
   "metadata": {},
   "outputs": [
    {
     "name": "stdout",
     "output_type": "stream",
     "text": [
      "Using device cuda\n"
     ]
    }
   ],
   "source": [
    "# device configuration\n",
    "# device = torch.device('mps' if torch.backends.mps.is_available() else ('cuda' if torch.cuda.is_available() else 'cpu'))\n",
    "device = torch.device('cuda' if torch.cuda.is_available() else 'cpu')\n",
    "# device = torch.device('cpu')\n",
    "\n",
    "print(f'Using device {device}')\n",
    "\n",
    "# consitency in training\n",
    "torch.manual_seed(1234)\n",
    "random.seed(1234)"
   ]
  },
  {
   "cell_type": "code",
   "execution_count": 25,
   "metadata": {
    "ExecuteTime": {
     "end_time": "2023-06-09T04:25:23.589661Z",
     "start_time": "2023-06-09T04:25:20.940253Z"
    },
    "collapsed": false
   },
   "outputs": [],
   "source": [
    "transform = transforms.Compose(\n",
    "    [transforms.ToTensor(),\n",
    "     transforms.Normalize((0.5, 0.5, 0.5), (0.5, 0.5, 0.5))])\n",
    "\n",
    "batch_size = 4\n",
    "\n",
    "trainset = Cifar10(train=True, transform=transform)\n",
    "trainloader = torch.utils.data.DataLoader(trainset, batch_size=batch_size,\n",
    "                                          shuffle=True, num_workers=2)\n",
    "\n",
    "testset = Cifar10(train=False, transform=transform)\n",
    "testloader = torch.utils.data.DataLoader(testset, batch_size=batch_size,\n",
    "                                         shuffle=False, num_workers=2)\n",
    "\n",
    "classes = ('plane', 'car', 'bird', 'cat',\n",
    "           'deer', 'dog', 'frog', 'horse', 'ship', 'truck')\n"
   ]
  },
  {
   "cell_type": "code",
   "execution_count": 28,
   "metadata": {
    "ExecuteTime": {
     "end_time": "2023-06-09T04:25:25.596711Z",
     "start_time": "2023-06-09T04:25:25.573716Z"
    },
    "collapsed": false
   },
   "outputs": [],
   "source": [
    "class Net1(nn.Module):\n",
    "    def __init__(self):\n",
    "        super().__init__()\n",
    "        self.conv1 = nn.Conv2d(3, 6, 5)\n",
    "        self.pool = nn.MaxPool2d(2, 2)\n",
    "        self.conv2 = nn.Conv2d(6, 16, 5)\n",
    "        self.fc1 = nn.Linear(16 * 5 * 5, 120)\n",
    "        self.fc2 = nn.Linear(120, 84)\n",
    "        self.fc3 = nn.Linear(84, 10)\n",
    "\n",
    "    def forward(self, x):\n",
    "        x = self.pool(F.relu(self.conv1(x)))\n",
    "        x = self.pool(F.relu(self.conv2(x)))\n",
    "        x = torch.flatten(x, 1) # flatten all dimensions except batch\n",
    "        x = F.relu(self.fc1(x))\n",
    "        x = F.relu(self.fc2(x))\n",
    "        x = self.fc3(x)\n",
    "        return x\n",
    "\n",
    "class Net2(nn.Module):\n",
    "    def __init__(self):\n",
    "        super().__init__()\n",
    "\n",
    "        self.conv_layer = nn.Sequential(\n",
    "             nn.Conv2d(3, 32, 3),\n",
    "             nn.Conv2d(32, 64, 3),\n",
    "             nn.MaxPool2d(2,2),\n",
    "             nn.Conv2d(64, 128, 3),\n",
    "             nn.MaxPool2d(2, 2),\n",
    "             nn.Conv2d(128, 256, 3),\n",
    "             nn.MaxPool2d(2,2),\n",
    "        )\n",
    "        \n",
    "        self.ff_layer = nn.Sequential(\n",
    "            nn.Linear(1024, 640),\n",
    "            nn.ReLU(inplace=True),\n",
    "            nn.Linear(640, 512),\n",
    "            nn.ReLU(inplace=True),\n",
    "            nn.Linear(512, 10)\n",
    "        )\n",
    "\n",
    "    def forward(self, x):\n",
    "        x = self.conv_layer(x)\n",
    "        x = torch.flatten(x, 1) # flatten all dimensions except batch\n",
    "        x = self.ff_layer(x)\n",
    "        return x\n",
    "\n",
    "class Net3(nn.Module):\n",
    "    def __init__(self):\n",
    "        super().__init__()\n",
    "\n",
    "        self.conv_layer = nn.Sequential(\n",
    "             nn.Conv2d(3, 16, 3),\n",
    "             nn.Conv2d(16, 64, 3),\n",
    "             nn.AvgPool2d(2,2),\n",
    "             nn.Conv2d(64, 128, 3),\n",
    "             nn.MaxPool2d(2, 2),\n",
    "             nn.Conv2d(128, 256, 3),\n",
    "             nn.MaxPool2d(2,2),\n",
    "        )\n",
    "        \n",
    "        self.ff_layer = nn.Sequential(\n",
    "            nn.Linear(1024, 640),\n",
    "            nn.ReLU(inplace=True),\n",
    "            nn.Linear(640, 512),\n",
    "            nn.ReLU(inplace=True),\n",
    "            nn.Linear(512, 10)\n",
    "        )\n",
    "\n",
    "    def forward(self, x):\n",
    "        x = self.conv_layer(x)\n",
    "        x = torch.flatten(x, 1) # flatten all dimensions except batch\n",
    "        x = self.ff_layer(x)\n",
    "        return x\n",
    "\n",
    "\n"
   ]
  },
  {
   "cell_type": "code",
   "execution_count": 29,
   "metadata": {
    "ExecuteTime": {
     "end_time": "2023-06-09T04:32:57.112768Z",
     "start_time": "2023-06-09T04:25:30.168882Z"
    },
    "collapsed": false
   },
   "outputs": [
    {
     "name": "stdout",
     "output_type": "stream",
     "text": [
      "starting training\n",
      "[1,   100] loss: 2.303 tr acc: 0.100 te acc: 0.104\n",
      "[1,   200] loss: 2.302 tr acc: 0.100 te acc: 0.104\n",
      "[1,   300] loss: 2.302 tr acc: 0.129 te acc: 0.128\n",
      "[1,   400] loss: 2.301 tr acc: 0.121 te acc: 0.120\n",
      "[2,   100] loss: 2.300 tr acc: 0.110 te acc: 0.107\n",
      "[2,   200] loss: 2.299 tr acc: 0.131 te acc: 0.126\n",
      "[2,   300] loss: 2.297 tr acc: 0.131 te acc: 0.125\n",
      "[2,   400] loss: 2.294 tr acc: 0.156 te acc: 0.150\n"
     ]
    }
   ],
   "source": [
    "num_epochs = 3\n",
    "\n",
    "# optimizer = optim.SGD(net.parameters(), lr=0.001, momentum=0.9)\n",
    "\n",
    "param_options = [\n",
    "    (optim.SGD, {'lr':0.001, 'momentum':0.9}, Net1, 'SGD Net1'),\n",
    "    (optim.SGD, {'lr':0.001, 'momentum':0.9}, Net2, 'SGD Net2'),\n",
    "    (optim.SGD, {'lr':0.001, 'momentum':0.9}, Net3, 'SGD Net3'),\n",
    "    (optim.Adam, {'lr':0.001}, Net1, 'Adam Net1'),\n",
    "    (optim.Adam, {'lr':0.001}, Net2, 'Adam Net2'),\n",
    "    (optim.Adam, {'lr':0.001}, Net3, 'Adam Net3'),\n",
    "]\n",
    "\n",
    "metrics = []\n",
    "for opt, kwargs, Net, label in param_options:\n",
    "    net = Net().to(device)\n",
    "    # loss and optimizer\n",
    "    criterion = nn.CrossEntropyLoss()\n",
    "    optimizer = opt(net.parameters(), **kwargs)\n",
    "    loss_vals, tr_acc, te_acc  = helpers.train_model(net, trainloader, testloader, device, criterion, optimizer, num_epochs)\n",
    "\n",
    "    metrics.append((loss_vals, tr_acc, te_acc, label))"
   ]
  },
  {
   "cell_type": "code",
   "execution_count": null,
   "metadata": {
    "collapsed": false
   },
   "outputs": [],
   "source": [
    "fig, axes = plt.subplots(3, 2, figsize=(10,10))\n",
    "\n",
    "\n",
    "for idx, (loss_vals, tr_acc, te_acc, label) in enumerate(metrics):\n",
    "    # ax1, ax2 = axes[idx]\n",
    "    ax = axes[idx%3][idx//3]\n",
    "    # ax1.plot(range(len(loss_vals)), loss_vals, label=f'Loss {label}')\n",
    "    ax.plot(range(len(loss_vals)), tr_acc, label=f'train acc {label}')\n",
    "    ax.plot(range(len(loss_vals)), te_acc, label=f'test acc {label}')\n",
    "\n",
    "    ax.set_title(label)\n",
    "    ax.legend()\n",
    "    # ax2.legend()\n",
    "\n",
    "plt.tight_layout()\n",
    "plt.show()\n",
    "\n",
    "metrics"
   ]
  }
 ],
 "metadata": {
  "kernelspec": {
   "display_name": "Python 3",
   "language": "python",
   "name": "python3"
  },
  "language_info": {
   "codemirror_mode": {
    "name": "ipython",
    "version": 3
   },
   "file_extension": ".py",
   "mimetype": "text/x-python",
   "name": "python",
   "nbconvert_exporter": "python",
   "pygments_lexer": "ipython3",
   "version": "3.10.11"
  }
 },
 "nbformat": 4,
 "nbformat_minor": 0
}
